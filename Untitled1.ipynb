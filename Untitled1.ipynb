{
 "cells": [
  {
   "cell_type": "code",
   "execution_count": null,
   "id": "914f3e17-6360-465d-98bd-473aee10f159",
   "metadata": {},
   "outputs": [
    {
     "name": "stdout",
     "output_type": "stream",
     "text": [
      "terminou\n"
     ]
    }
   ],
   "source": [
    "import boto3\n",
    "import os\n",
    "\n",
    "s3 = boto3.resource('s3')\n",
    "\n",
    "\n",
    "\n",
    "\n",
    "s3 = boto3.resource('s3')\n",
    "\n",
    "def download_folder(bucket_name, s3_folder, local_dir=None):\n",
    "    \"\"\"\n",
    "    Download the contents of a folder directory\n",
    "    Args:\n",
    "        bucket_name (str): Name of S3 bucket\n",
    "        s3_folder (str): S3 folder path to download\n",
    "        local_dir (str): Local directory path to save the files to\n",
    "    \"\"\"\n",
    "    bucket = s3.Bucket(bucket_name)\n",
    "\n",
    "    for obj in bucket.objects.filter(Prefix=s3_folder):\n",
    "        target = obj.key if local_dir is None \\\n",
    "            else os.path.join(local_dir, os.path.relpath(obj.key, s3_folder))\n",
    "        if not os.path.exists(os.path.dirname(target)):\n",
    "            os.makedirs(os.path.dirname(target))\n",
    "        if obj.key[-1] == '/':\n",
    "            continue\n",
    "        bucket.download_file(obj.key, target)\n",
    "\n",
    "# Download a folder from S3 bucket\n",
    "bucket_name = 'kagglexrayunziped'\n",
    "s3_folder = 'chest_xray/chest_xray/train'\n",
    "local_dir = '/home/studio-lab-user/sagemaker-studiolab-notebooks/train'\n",
    "download_folder(bucket_name, s3_folder, local_dir)\n",
    "print(\"terminou\")\n"
   ]
  },
  {
   "cell_type": "code",
   "execution_count": null,
   "id": "2ad0277d-621a-453c-a449-e3d2c2162a0d",
   "metadata": {
    "tags": []
   },
   "outputs": [],
   "source": [
    "s3_folder = 'chest_xray/chest_xray/test'\n",
    "local_dir = '/home/studio-lab-user/sagemaker-studiolab-notebooks/test'\n",
    "download_folder(bucket_name, s3_folder, local_dir)\n"
   ]
  },
  {
   "cell_type": "markdown",
   "id": "7e395e38-3cc6-4184-855e-91c78942a0eb",
   "metadata": {},
   "source": [
    "## Criar replicas nao rotacionadas de imagens com Pneumonia (oversampling)"
   ]
  },
  {
   "cell_type": "code",
   "execution_count": 9,
   "id": "1a1500ad-9fbe-4e02-8347-5676758cfcab",
   "metadata": {
    "tags": []
   },
   "outputs": [
    {
     "name": "stdout",
     "output_type": "stream",
     "text": [
      "terminou\n"
     ]
    }
   ],
   "source": [
    "import os\n",
    "import torchvision.transforms.functional as TF\n",
    "from PIL import Image\n",
    "folder_path = \"/home/studio-lab-user/sagemaker-studiolab-notebooks/train/PNEUMONIA\"\n",
    "\n",
    "def rotate_images(folder_path):\n",
    "    # Define the rotation angles\n",
    "    angles = [0]\n",
    "\n",
    "    # Loop through all the files in the folder\n",
    "    for filename in os.listdir(folder_path):\n",
    "        # Check if the file is a .jpeg image\n",
    "        if filename.endswith(\".jpeg\"):\n",
    "            # Open the image and rotate it\n",
    "            img_path = os.path.join(folder_path, filename)\n",
    "            img = Image.open(img_path)\n",
    "            for angle in angles:\n",
    "                rotated_img = TF.rotate(img, angle)\n",
    "\n",
    "                # Save the rotated image with a new filename\n",
    "                new_filename = f\"rotated_{angle}_{filename}\"\n",
    "                new_img_path = os.path.join(folder_path, new_filename)\n",
    "                rotated_img.save(new_img_path)\n",
    "\n",
    "rotate_images('/home/studio-lab-user/sagemaker-studiolab-notebooks/train/PNEUMONIA')\n",
    "print(\"terminou\")"
   ]
  },
  {
   "cell_type": "code",
   "execution_count": 4,
   "id": "84ee1448-81a4-4786-bac7-1e2c277dd5ec",
   "metadata": {
    "tags": []
   },
   "outputs": [
    {
     "name": "stdout",
     "output_type": "stream",
     "text": [
      "torch.Size([3, 150, 150]) 0\n"
     ]
    }
   ],
   "source": [
    "import torchvision.datasets as datasets\n",
    "import torchvision.transforms as transforms\n",
    "\n",
    "# define the transformations to apply to each image\n",
    "transform = transforms.Compose([\n",
    "    transforms.Resize(150),\n",
    "    transforms.CenterCrop(150),\n",
    "    transforms.ToTensor()\n",
    "])\n",
    "\n",
    "# create the dataset\n",
    "dataset = datasets.ImageFolder(root='/home/studio-lab-user/sagemaker-studiolab-notebooks/train', transform=transform)\n",
    "\n",
    "# get an image and its corresponding label\n",
    "img, label = dataset[0]\n",
    "\n",
    "# print the shape of the image and the label\n",
    "print(img.shape, label)\n"
   ]
  },
  {
   "cell_type": "code",
   "execution_count": null,
   "id": "ca93b5c3-c0eb-477f-a552-9c83f3102658",
   "metadata": {
    "tags": []
   },
   "outputs": [],
   "source": [
    "%pip install scikit-image==0.18.3"
   ]
  },
  {
   "cell_type": "code",
   "execution_count": 11,
   "id": "22ae76b9-850b-4d80-bf89-42a5f236af0e",
   "metadata": {
    "tags": []
   },
   "outputs": [],
   "source": [
    "import os\n",
    "import numpy as np\n",
    "from PIL import Image\n",
    "import torchvision.datasets as datasets\n",
    "import torchvision.transforms as transforms\n",
    "from skimage.feature import greycomatrix, greycoprops\n",
    "\n",
    "# Define the image transformations\n",
    "transform = transforms.Compose([\n",
    "    transforms.Resize((150,150)),\n",
    "    transforms.ToTensor(),\n",
    "    transforms.Normalize(mean=[0.5], std=[0.5])\n",
    "])\n",
    "\n",
    "# Load the dataset\n",
    "dataset = datasets.ImageFolder(root='/home/studio-lab-user/sagemaker-studiolab-notebooks/train', transform=transform)\n",
    "\n",
    "# Define the GLCM properties to extract\n",
    "distances = [1, 2, 3]\n",
    "angles = [0, np.pi/4, np.pi/2, 3*np.pi/4]\n",
    "properties = ['contrast', 'energy', 'homogeneity', 'correlation']\n",
    "\n",
    "# Loop through the dataset\n",
    "for i in range(len(dataset)):\n",
    "    # Load the image and convert to grayscale\n",
    "    image, label = dataset[i]\n",
    "    image = Image.fromarray(np.uint8(image.numpy().transpose(1, 2, 0) * 255))\n",
    "    image = image.convert('L')\n",
    "    \n",
    "    # Compute the GLCM\n",
    "    glcm = greycomatrix(np.array(image), distances, angles, symmetric=True, normed=True)\n",
    "    \n",
    "    # Compute the GLCM properties\n",
    "    features = np.hstack([greycoprops(glcm, prop).ravel() for prop in properties])\n",
    "    \n",
    "    # Save the features to file\n",
    "    filename = os.path.join('/home/studio-lab-user/sagemaker-studiolab-notebooks/glcm_features', f'{i}.npy')\n",
    "    np.save(filename, features)\n"
   ]
  },
  {
   "cell_type": "code",
   "execution_count": 5,
   "id": "029ad758-4a75-4019-8ba3-e1aee0074ad2",
   "metadata": {
    "tags": []
   },
   "outputs": [
    {
     "ename": "KeyboardInterrupt",
     "evalue": "",
     "output_type": "error",
     "traceback": [
      "\u001b[0;31m---------------------------------------------------------------------------\u001b[0m",
      "\u001b[0;31mKeyboardInterrupt\u001b[0m                         Traceback (most recent call last)",
      "\u001b[0;32m/tmp/ipykernel_88/553580958.py\u001b[0m in \u001b[0;36m<cell line: 29>\u001b[0;34m()\u001b[0m\n\u001b[1;32m     37\u001b[0m \u001b[0;34m\u001b[0m\u001b[0m\n\u001b[1;32m     38\u001b[0m     \u001b[0;31m# Compute the GLCM properties\u001b[0m\u001b[0;34m\u001b[0m\u001b[0;34m\u001b[0m\u001b[0m\n\u001b[0;32m---> 39\u001b[0;31m     \u001b[0mfeatures\u001b[0m \u001b[0;34m=\u001b[0m \u001b[0mnp\u001b[0m\u001b[0;34m.\u001b[0m\u001b[0mhstack\u001b[0m\u001b[0;34m(\u001b[0m\u001b[0;34m[\u001b[0m\u001b[0mgreycoprops\u001b[0m\u001b[0;34m(\u001b[0m\u001b[0mglcm\u001b[0m\u001b[0;34m,\u001b[0m \u001b[0mprop\u001b[0m\u001b[0;34m)\u001b[0m\u001b[0;34m.\u001b[0m\u001b[0mravel\u001b[0m\u001b[0;34m(\u001b[0m\u001b[0;34m)\u001b[0m \u001b[0;32mfor\u001b[0m \u001b[0mprop\u001b[0m \u001b[0;32min\u001b[0m \u001b[0mproperties\u001b[0m\u001b[0;34m]\u001b[0m\u001b[0;34m)\u001b[0m\u001b[0;34m\u001b[0m\u001b[0;34m\u001b[0m\u001b[0m\n\u001b[0m\u001b[1;32m     40\u001b[0m \u001b[0;34m\u001b[0m\u001b[0m\n\u001b[1;32m     41\u001b[0m     \u001b[0;31m# Append the tensorized image and label to the lists\u001b[0m\u001b[0;34m\u001b[0m\u001b[0;34m\u001b[0m\u001b[0m\n",
      "\u001b[0;32m/tmp/ipykernel_88/553580958.py\u001b[0m in \u001b[0;36m<listcomp>\u001b[0;34m(.0)\u001b[0m\n\u001b[1;32m     37\u001b[0m \u001b[0;34m\u001b[0m\u001b[0m\n\u001b[1;32m     38\u001b[0m     \u001b[0;31m# Compute the GLCM properties\u001b[0m\u001b[0;34m\u001b[0m\u001b[0;34m\u001b[0m\u001b[0m\n\u001b[0;32m---> 39\u001b[0;31m     \u001b[0mfeatures\u001b[0m \u001b[0;34m=\u001b[0m \u001b[0mnp\u001b[0m\u001b[0;34m.\u001b[0m\u001b[0mhstack\u001b[0m\u001b[0;34m(\u001b[0m\u001b[0;34m[\u001b[0m\u001b[0mgreycoprops\u001b[0m\u001b[0;34m(\u001b[0m\u001b[0mglcm\u001b[0m\u001b[0;34m,\u001b[0m \u001b[0mprop\u001b[0m\u001b[0;34m)\u001b[0m\u001b[0;34m.\u001b[0m\u001b[0mravel\u001b[0m\u001b[0;34m(\u001b[0m\u001b[0;34m)\u001b[0m \u001b[0;32mfor\u001b[0m \u001b[0mprop\u001b[0m \u001b[0;32min\u001b[0m \u001b[0mproperties\u001b[0m\u001b[0;34m]\u001b[0m\u001b[0;34m)\u001b[0m\u001b[0;34m\u001b[0m\u001b[0;34m\u001b[0m\u001b[0m\n\u001b[0m\u001b[1;32m     40\u001b[0m \u001b[0;34m\u001b[0m\u001b[0m\n\u001b[1;32m     41\u001b[0m     \u001b[0;31m# Append the tensorized image and label to the lists\u001b[0m\u001b[0;34m\u001b[0m\u001b[0;34m\u001b[0m\u001b[0m\n",
      "\u001b[0;32m~/.conda/envs/default/lib/python3.9/site-packages/skimage/feature/texture.py\u001b[0m in \u001b[0;36mgreycoprops\u001b[0;34m(P, prop)\u001b[0m\n\u001b[1;32m    274\u001b[0m     \u001b[0;32melif\u001b[0m \u001b[0mprop\u001b[0m \u001b[0;32min\u001b[0m \u001b[0;34m[\u001b[0m\u001b[0;34m'contrast'\u001b[0m\u001b[0;34m,\u001b[0m \u001b[0;34m'dissimilarity'\u001b[0m\u001b[0;34m,\u001b[0m \u001b[0;34m'homogeneity'\u001b[0m\u001b[0;34m]\u001b[0m\u001b[0;34m:\u001b[0m\u001b[0;34m\u001b[0m\u001b[0;34m\u001b[0m\u001b[0m\n\u001b[1;32m    275\u001b[0m         \u001b[0mweights\u001b[0m \u001b[0;34m=\u001b[0m \u001b[0mweights\u001b[0m\u001b[0;34m.\u001b[0m\u001b[0mreshape\u001b[0m\u001b[0;34m(\u001b[0m\u001b[0;34m(\u001b[0m\u001b[0mnum_level\u001b[0m\u001b[0;34m,\u001b[0m \u001b[0mnum_level\u001b[0m\u001b[0;34m,\u001b[0m \u001b[0;36m1\u001b[0m\u001b[0;34m,\u001b[0m \u001b[0;36m1\u001b[0m\u001b[0;34m)\u001b[0m\u001b[0;34m)\u001b[0m\u001b[0;34m\u001b[0m\u001b[0;34m\u001b[0m\u001b[0m\n\u001b[0;32m--> 276\u001b[0;31m         \u001b[0mresults\u001b[0m \u001b[0;34m=\u001b[0m \u001b[0mnp\u001b[0m\u001b[0;34m.\u001b[0m\u001b[0mapply_over_axes\u001b[0m\u001b[0;34m(\u001b[0m\u001b[0mnp\u001b[0m\u001b[0;34m.\u001b[0m\u001b[0msum\u001b[0m\u001b[0;34m,\u001b[0m \u001b[0;34m(\u001b[0m\u001b[0mP\u001b[0m \u001b[0;34m*\u001b[0m \u001b[0mweights\u001b[0m\u001b[0;34m)\u001b[0m\u001b[0;34m,\u001b[0m \u001b[0maxes\u001b[0m\u001b[0;34m=\u001b[0m\u001b[0;34m(\u001b[0m\u001b[0;36m0\u001b[0m\u001b[0;34m,\u001b[0m \u001b[0;36m1\u001b[0m\u001b[0;34m)\u001b[0m\u001b[0;34m)\u001b[0m\u001b[0;34m[\u001b[0m\u001b[0;36m0\u001b[0m\u001b[0;34m,\u001b[0m \u001b[0;36m0\u001b[0m\u001b[0;34m]\u001b[0m\u001b[0;34m\u001b[0m\u001b[0;34m\u001b[0m\u001b[0m\n\u001b[0m\u001b[1;32m    277\u001b[0m \u001b[0;34m\u001b[0m\u001b[0m\n\u001b[1;32m    278\u001b[0m     \u001b[0;32mreturn\u001b[0m \u001b[0mresults\u001b[0m\u001b[0;34m\u001b[0m\u001b[0;34m\u001b[0m\u001b[0m\n",
      "\u001b[0;31mKeyboardInterrupt\u001b[0m: "
     ]
    }
   ],
   "source": [
    "import os\n",
    "import numpy as np\n",
    "import torch\n",
    "from PIL import Image\n",
    "import torchvision.datasets as datasets\n",
    "import torchvision.transforms as transforms\n",
    "from skimage.feature import greycomatrix, greycoprops\n",
    "\n",
    "# Define the image transformations\n",
    "transform = transforms.Compose([\n",
    "    transforms.Resize((256, 256)),\n",
    "    transforms.ToTensor(),\n",
    "    transforms.Normalize(mean=[0.5], std=[0.5])\n",
    "])\n",
    "\n",
    "# Load the dataset\n",
    "dataset = datasets.ImageFolder(root='/home/studio-lab-user/sagemaker-studiolab-notebooks/train', transform=transform)\n",
    "\n",
    "# Define the GLCM properties to extract\n",
    "distances = [1, 2, 3]\n",
    "angles = [0, np.pi/4, np.pi/2, 3*np.pi/4]\n",
    "properties = ['contrast', 'energy', 'homogeneity', 'correlation']\n",
    "\n",
    "# Create an empty list to store the tensorized images and labels\n",
    "tensorized_images = []\n",
    "labels = []\n",
    "\n",
    "# Loop through the dataset\n",
    "for i in range(len(dataset)):\n",
    "    # Load the image and convert to grayscale\n",
    "    image, label = dataset[i]\n",
    "    image = Image.fromarray(np.uint8(image.numpy().transpose(1, 2, 0) * 255))\n",
    "    image = image.convert('L')\n",
    "    \n",
    "    # Compute the GLCM\n",
    "    glcm = greycomatrix(np.array(image), distances, angles, symmetric=True, normed=True)\n",
    "    \n",
    "    # Compute the GLCM properties\n",
    "    features = np.hstack([greycoprops(glcm, prop).ravel() for prop in properties])\n",
    "    \n",
    "    # Append the tensorized image and label to the lists\n",
    "    tensorized_images.append(torch.Tensor(features))\n",
    "    labels.append(label)\n",
    "\n",
    "# Convert the lists to tensors\n",
    "tensorized_images = torch.stack(tensorized_images)\n",
    "labels = torch.tensor(labels)\n",
    "\n",
    "# Define a custom dataset class\n",
    "class TensorImageFolder(Dataset):\n",
    "    def __init__(self, tensorized_images, labels, transform=None):\n",
    "        self.images = tensorized_images\n",
    "        self.labels = labels\n",
    "        self.transform = transform\n",
    "    \n",
    "    def __len__(self):\n",
    "        return len(self.images)\n",
    "    \n",
    "    def __getitem__(self, index):\n",
    "        image = self.images[index]\n",
    "        label = self.labels[index]\n",
    "        \n",
    "        if self.transform:\n",
    "            image = self.transform(image)\n",
    "        \n",
    "        return image, label\n",
    "\n",
    "# Load the dataset\n",
    "dataset_glcm = datasets.ImageFolder(tensorized_images, labels, transform=transform)\n",
    "\n",
    "# Create a data loader for the dataset\n",
    "data_loader_glcm = DataLoader(dataset, batch_size=32, shuffle=True)\n"
   ]
  },
  {
   "cell_type": "code",
   "execution_count": 9,
   "id": "c150edaa-d353-4853-be72-3df011e58d3c",
   "metadata": {
    "tags": []
   },
   "outputs": [],
   "source": [
    "import os\n",
    "import numpy as np\n",
    "import torch\n",
    "from PIL import Image\n",
    "from torch.utils.data import Dataset, DataLoader\n",
    "import torchvision.datasets as datasets\n",
    "import torchvision.transforms as transforms\n",
    "from skimage.feature import greycomatrix, greycoprops\n",
    "\n",
    "# Define the image transformations\n",
    "transform = transforms.Compose([\n",
    "    transforms.Resize((150, 150)),\n",
    "    transforms.ToTensor(),\n",
    "    transforms.Normalize(mean=[0.5], std=[0.5])\n",
    "])\n",
    "\n",
    "# Define a custom dataset class\n",
    "class TensorImageDataset(Dataset):\n",
    "    def __init__(self, tensorized_images, labels, transform=None):\n",
    "        self.images = tensorized_images\n",
    "        self.labels = labels\n",
    "        self.transform = transform\n",
    "    \n",
    "    def __len__(self):\n",
    "        return len(self.images)\n",
    "    \n",
    "    def __getitem__(self, index):\n",
    "        image = self.images[index]\n",
    "        label = self.labels[index]\n",
    "        \n",
    "        if self.transform:\n",
    "            image = self.transform(image)\n",
    "        \n",
    "        return image, label\n",
    "\n",
    "# Load the dataset\n",
    "dataset_glcm = TensorImageDataset(tensorized_images, labels, transform=transform)\n",
    "\n",
    "# Create a data loader for the dataset\n",
    "data_loader_glcm = DataLoader(dataset_glcm, batch_size=32, shuffle=True)\n"
   ]
  },
  {
   "cell_type": "code",
   "execution_count": 10,
   "id": "242751d9-e805-4b02-ac96-06eaaa5aebbb",
   "metadata": {
    "tags": []
   },
   "outputs": [
    {
     "data": {
      "text/plain": [
       "<__main__.TensorImageDataset at 0x7f055072db20>"
      ]
     },
     "execution_count": 10,
     "metadata": {},
     "output_type": "execute_result"
    }
   ],
   "source": [
    "dataset_glcm"
   ]
  },
  {
   "cell_type": "code",
   "execution_count": 107,
   "id": "f6065607-4a5c-4b7e-94fc-7949b55b12f7",
   "metadata": {
    "tags": []
   },
   "outputs": [
    {
     "name": "stdout",
     "output_type": "stream",
     "text": [
      "562 1903 0.2953231739358907\n"
     ]
    }
   ],
   "source": [
    "sum_label = 0\n",
    "for i in range(len(dataset)):\n",
    "    \n",
    "    img, label = dataset[i]\n",
    "    sum_label += label\n",
    "\n",
    "print(sum_label,len(dataset),sum_label/len(dataset))"
   ]
  },
  {
   "cell_type": "code",
   "execution_count": 108,
   "id": "b897c981-967f-4465-bac1-b9ef07da9e12",
   "metadata": {
    "tags": []
   },
   "outputs": [],
   "source": [
    "dataset_test = datasets.ImageFolder(root='/home/studio-lab-user/sagemaker-studiolab-notebooks/test', transform=transform)\n"
   ]
  },
  {
   "cell_type": "code",
   "execution_count": 111,
   "id": "a2245cc8-a8d9-47d6-a6a3-e02cb50e97bf",
   "metadata": {
    "tags": []
   },
   "outputs": [
    {
     "name": "stdout",
     "output_type": "stream",
     "text": [
      "torch.Size([3, 150, 150]) 1\n",
      "390 624 0.625\n"
     ]
    }
   ],
   "source": [
    "\n",
    "# get an image and its corresponding label\n",
    "img, label = dataset_test[500]\n",
    "\n",
    "# print the shape of the image and the label\n",
    "print(img.shape, label)\n",
    "\n",
    "sum_label = 0\n",
    "for i in range(len(dataset_test)):\n",
    "    \n",
    "    img, label = dataset_test[i]\n",
    "    sum_label += label\n",
    "\n",
    "print(sum_label,len(dataset_test),sum_label/len(dataset_test))"
   ]
  },
  {
   "cell_type": "code",
   "execution_count": 95,
   "id": "b65d76e4-f516-449a-bf00-6e5196daa4f8",
   "metadata": {
    "tags": []
   },
   "outputs": [
    {
     "name": "stdout",
     "output_type": "stream",
     "text": [
      "Follwing classes are there : \n",
      " ['NORMAL', 'PNEUMONIA']\n"
     ]
    }
   ],
   "source": [
    "print(\"Follwing classes are there : \\n\",dataset.classes)\n"
   ]
  },
  {
   "cell_type": "code",
   "execution_count": 12,
   "id": "202af2a3-56c6-41e3-aa69-791f5468015e",
   "metadata": {
    "tags": []
   },
   "outputs": [
    {
     "ename": "TypeError",
     "evalue": "Tensor is not a torch image.",
     "output_type": "error",
     "traceback": [
      "\u001b[0;31m---------------------------------------------------------------------------\u001b[0m",
      "\u001b[0;31mTypeError\u001b[0m                                 Traceback (most recent call last)",
      "\u001b[0;32m/tmp/ipykernel_88/1883085278.py\u001b[0m in \u001b[0;36m<cell line: 8>\u001b[0;34m()\u001b[0m\n\u001b[1;32m      6\u001b[0m \u001b[0;34m\u001b[0m\u001b[0m\n\u001b[1;32m      7\u001b[0m \u001b[0;31m#display the first image in the dataset\u001b[0m\u001b[0;34m\u001b[0m\u001b[0;34m\u001b[0m\u001b[0m\n\u001b[0;32m----> 8\u001b[0;31m \u001b[0mdisplay_img\u001b[0m\u001b[0;34m(\u001b[0m\u001b[0;34m*\u001b[0m\u001b[0mdataset_glcm\u001b[0m\u001b[0;34m[\u001b[0m\u001b[0;36m100\u001b[0m\u001b[0;34m]\u001b[0m\u001b[0;34m)\u001b[0m\u001b[0;34m\u001b[0m\u001b[0;34m\u001b[0m\u001b[0m\n\u001b[0m",
      "\u001b[0;32m/tmp/ipykernel_88/160453063.py\u001b[0m in \u001b[0;36m__getitem__\u001b[0;34m(self, index)\u001b[0m\n\u001b[1;32m     30\u001b[0m \u001b[0;34m\u001b[0m\u001b[0m\n\u001b[1;32m     31\u001b[0m         \u001b[0;32mif\u001b[0m \u001b[0mself\u001b[0m\u001b[0;34m.\u001b[0m\u001b[0mtransform\u001b[0m\u001b[0;34m:\u001b[0m\u001b[0;34m\u001b[0m\u001b[0;34m\u001b[0m\u001b[0m\n\u001b[0;32m---> 32\u001b[0;31m             \u001b[0mimage\u001b[0m \u001b[0;34m=\u001b[0m \u001b[0mself\u001b[0m\u001b[0;34m.\u001b[0m\u001b[0mtransform\u001b[0m\u001b[0;34m(\u001b[0m\u001b[0mimage\u001b[0m\u001b[0;34m)\u001b[0m\u001b[0;34m\u001b[0m\u001b[0;34m\u001b[0m\u001b[0m\n\u001b[0m\u001b[1;32m     33\u001b[0m \u001b[0;34m\u001b[0m\u001b[0m\n\u001b[1;32m     34\u001b[0m         \u001b[0;32mreturn\u001b[0m \u001b[0mimage\u001b[0m\u001b[0;34m,\u001b[0m \u001b[0mlabel\u001b[0m\u001b[0;34m\u001b[0m\u001b[0;34m\u001b[0m\u001b[0m\n",
      "\u001b[0;32m~/.conda/envs/default/lib/python3.9/site-packages/torchvision/transforms/transforms.py\u001b[0m in \u001b[0;36m__call__\u001b[0;34m(self, img)\u001b[0m\n\u001b[1;32m     93\u001b[0m     \u001b[0;32mdef\u001b[0m \u001b[0m__call__\u001b[0m\u001b[0;34m(\u001b[0m\u001b[0mself\u001b[0m\u001b[0;34m,\u001b[0m \u001b[0mimg\u001b[0m\u001b[0;34m)\u001b[0m\u001b[0;34m:\u001b[0m\u001b[0;34m\u001b[0m\u001b[0;34m\u001b[0m\u001b[0m\n\u001b[1;32m     94\u001b[0m         \u001b[0;32mfor\u001b[0m \u001b[0mt\u001b[0m \u001b[0;32min\u001b[0m \u001b[0mself\u001b[0m\u001b[0;34m.\u001b[0m\u001b[0mtransforms\u001b[0m\u001b[0;34m:\u001b[0m\u001b[0;34m\u001b[0m\u001b[0;34m\u001b[0m\u001b[0m\n\u001b[0;32m---> 95\u001b[0;31m             \u001b[0mimg\u001b[0m \u001b[0;34m=\u001b[0m \u001b[0mt\u001b[0m\u001b[0;34m(\u001b[0m\u001b[0mimg\u001b[0m\u001b[0;34m)\u001b[0m\u001b[0;34m\u001b[0m\u001b[0;34m\u001b[0m\u001b[0m\n\u001b[0m\u001b[1;32m     96\u001b[0m         \u001b[0;32mreturn\u001b[0m \u001b[0mimg\u001b[0m\u001b[0;34m\u001b[0m\u001b[0;34m\u001b[0m\u001b[0m\n\u001b[1;32m     97\u001b[0m \u001b[0;34m\u001b[0m\u001b[0m\n",
      "\u001b[0;32m~/.conda/envs/default/lib/python3.9/site-packages/torch/nn/modules/module.py\u001b[0m in \u001b[0;36m_call_impl\u001b[0;34m(self, *args, **kwargs)\u001b[0m\n\u001b[1;32m   1499\u001b[0m                 \u001b[0;32mor\u001b[0m \u001b[0m_global_backward_pre_hooks\u001b[0m \u001b[0;32mor\u001b[0m \u001b[0m_global_backward_hooks\u001b[0m\u001b[0;34m\u001b[0m\u001b[0;34m\u001b[0m\u001b[0m\n\u001b[1;32m   1500\u001b[0m                 or _global_forward_hooks or _global_forward_pre_hooks):\n\u001b[0;32m-> 1501\u001b[0;31m             \u001b[0;32mreturn\u001b[0m \u001b[0mforward_call\u001b[0m\u001b[0;34m(\u001b[0m\u001b[0;34m*\u001b[0m\u001b[0margs\u001b[0m\u001b[0;34m,\u001b[0m \u001b[0;34m**\u001b[0m\u001b[0mkwargs\u001b[0m\u001b[0;34m)\u001b[0m\u001b[0;34m\u001b[0m\u001b[0;34m\u001b[0m\u001b[0m\n\u001b[0m\u001b[1;32m   1502\u001b[0m         \u001b[0;31m# Do not call functions when jit is used\u001b[0m\u001b[0;34m\u001b[0m\u001b[0;34m\u001b[0m\u001b[0m\n\u001b[1;32m   1503\u001b[0m         \u001b[0mfull_backward_hooks\u001b[0m\u001b[0;34m,\u001b[0m \u001b[0mnon_full_backward_hooks\u001b[0m \u001b[0;34m=\u001b[0m \u001b[0;34m[\u001b[0m\u001b[0;34m]\u001b[0m\u001b[0;34m,\u001b[0m \u001b[0;34m[\u001b[0m\u001b[0;34m]\u001b[0m\u001b[0;34m\u001b[0m\u001b[0;34m\u001b[0m\u001b[0m\n",
      "\u001b[0;32m~/.conda/envs/default/lib/python3.9/site-packages/torchvision/transforms/transforms.py\u001b[0m in \u001b[0;36mforward\u001b[0;34m(self, img)\u001b[0m\n\u001b[1;32m    359\u001b[0m             \u001b[0mPIL\u001b[0m \u001b[0mImage\u001b[0m \u001b[0;32mor\u001b[0m \u001b[0mTensor\u001b[0m\u001b[0;34m:\u001b[0m \u001b[0mRescaled\u001b[0m \u001b[0mimage\u001b[0m\u001b[0;34m.\u001b[0m\u001b[0;34m\u001b[0m\u001b[0;34m\u001b[0m\u001b[0m\n\u001b[1;32m    360\u001b[0m         \"\"\"\n\u001b[0;32m--> 361\u001b[0;31m         \u001b[0;32mreturn\u001b[0m \u001b[0mF\u001b[0m\u001b[0;34m.\u001b[0m\u001b[0mresize\u001b[0m\u001b[0;34m(\u001b[0m\u001b[0mimg\u001b[0m\u001b[0;34m,\u001b[0m \u001b[0mself\u001b[0m\u001b[0;34m.\u001b[0m\u001b[0msize\u001b[0m\u001b[0;34m,\u001b[0m \u001b[0mself\u001b[0m\u001b[0;34m.\u001b[0m\u001b[0minterpolation\u001b[0m\u001b[0;34m,\u001b[0m \u001b[0mself\u001b[0m\u001b[0;34m.\u001b[0m\u001b[0mmax_size\u001b[0m\u001b[0;34m,\u001b[0m \u001b[0mself\u001b[0m\u001b[0;34m.\u001b[0m\u001b[0mantialias\u001b[0m\u001b[0;34m)\u001b[0m\u001b[0;34m\u001b[0m\u001b[0;34m\u001b[0m\u001b[0m\n\u001b[0m\u001b[1;32m    362\u001b[0m \u001b[0;34m\u001b[0m\u001b[0m\n\u001b[1;32m    363\u001b[0m     \u001b[0;32mdef\u001b[0m \u001b[0m__repr__\u001b[0m\u001b[0;34m(\u001b[0m\u001b[0mself\u001b[0m\u001b[0;34m)\u001b[0m \u001b[0;34m->\u001b[0m \u001b[0mstr\u001b[0m\u001b[0;34m:\u001b[0m\u001b[0;34m\u001b[0m\u001b[0;34m\u001b[0m\u001b[0m\n",
      "\u001b[0;32m~/.conda/envs/default/lib/python3.9/site-packages/torchvision/transforms/functional.py\u001b[0m in \u001b[0;36mresize\u001b[0;34m(img, size, interpolation, max_size, antialias)\u001b[0m\n\u001b[1;32m    474\u001b[0m             )\n\u001b[1;32m    475\u001b[0m \u001b[0;34m\u001b[0m\u001b[0m\n\u001b[0;32m--> 476\u001b[0;31m     \u001b[0m_\u001b[0m\u001b[0;34m,\u001b[0m \u001b[0mimage_height\u001b[0m\u001b[0;34m,\u001b[0m \u001b[0mimage_width\u001b[0m \u001b[0;34m=\u001b[0m \u001b[0mget_dimensions\u001b[0m\u001b[0;34m(\u001b[0m\u001b[0mimg\u001b[0m\u001b[0;34m)\u001b[0m\u001b[0;34m\u001b[0m\u001b[0;34m\u001b[0m\u001b[0m\n\u001b[0m\u001b[1;32m    477\u001b[0m     \u001b[0;32mif\u001b[0m \u001b[0misinstance\u001b[0m\u001b[0;34m(\u001b[0m\u001b[0msize\u001b[0m\u001b[0;34m,\u001b[0m \u001b[0mint\u001b[0m\u001b[0;34m)\u001b[0m\u001b[0;34m:\u001b[0m\u001b[0;34m\u001b[0m\u001b[0;34m\u001b[0m\u001b[0m\n\u001b[1;32m    478\u001b[0m         \u001b[0msize\u001b[0m \u001b[0;34m=\u001b[0m \u001b[0;34m[\u001b[0m\u001b[0msize\u001b[0m\u001b[0;34m]\u001b[0m\u001b[0;34m\u001b[0m\u001b[0;34m\u001b[0m\u001b[0m\n",
      "\u001b[0;32m~/.conda/envs/default/lib/python3.9/site-packages/torchvision/transforms/functional.py\u001b[0m in \u001b[0;36mget_dimensions\u001b[0;34m(img)\u001b[0m\n\u001b[1;32m     74\u001b[0m         \u001b[0m_log_api_usage_once\u001b[0m\u001b[0;34m(\u001b[0m\u001b[0mget_dimensions\u001b[0m\u001b[0;34m)\u001b[0m\u001b[0;34m\u001b[0m\u001b[0;34m\u001b[0m\u001b[0m\n\u001b[1;32m     75\u001b[0m     \u001b[0;32mif\u001b[0m \u001b[0misinstance\u001b[0m\u001b[0;34m(\u001b[0m\u001b[0mimg\u001b[0m\u001b[0;34m,\u001b[0m \u001b[0mtorch\u001b[0m\u001b[0;34m.\u001b[0m\u001b[0mTensor\u001b[0m\u001b[0;34m)\u001b[0m\u001b[0;34m:\u001b[0m\u001b[0;34m\u001b[0m\u001b[0;34m\u001b[0m\u001b[0m\n\u001b[0;32m---> 76\u001b[0;31m         \u001b[0;32mreturn\u001b[0m \u001b[0mF_t\u001b[0m\u001b[0;34m.\u001b[0m\u001b[0mget_dimensions\u001b[0m\u001b[0;34m(\u001b[0m\u001b[0mimg\u001b[0m\u001b[0;34m)\u001b[0m\u001b[0;34m\u001b[0m\u001b[0;34m\u001b[0m\u001b[0m\n\u001b[0m\u001b[1;32m     77\u001b[0m \u001b[0;34m\u001b[0m\u001b[0m\n\u001b[1;32m     78\u001b[0m     \u001b[0;32mreturn\u001b[0m \u001b[0mF_pil\u001b[0m\u001b[0;34m.\u001b[0m\u001b[0mget_dimensions\u001b[0m\u001b[0;34m(\u001b[0m\u001b[0mimg\u001b[0m\u001b[0;34m)\u001b[0m\u001b[0;34m\u001b[0m\u001b[0;34m\u001b[0m\u001b[0m\n",
      "\u001b[0;32m~/.conda/envs/default/lib/python3.9/site-packages/torchvision/transforms/_functional_tensor.py\u001b[0m in \u001b[0;36mget_dimensions\u001b[0;34m(img)\u001b[0m\n\u001b[1;32m     17\u001b[0m \u001b[0;34m\u001b[0m\u001b[0m\n\u001b[1;32m     18\u001b[0m \u001b[0;32mdef\u001b[0m \u001b[0mget_dimensions\u001b[0m\u001b[0;34m(\u001b[0m\u001b[0mimg\u001b[0m\u001b[0;34m:\u001b[0m \u001b[0mTensor\u001b[0m\u001b[0;34m)\u001b[0m \u001b[0;34m->\u001b[0m \u001b[0mList\u001b[0m\u001b[0;34m[\u001b[0m\u001b[0mint\u001b[0m\u001b[0;34m]\u001b[0m\u001b[0;34m:\u001b[0m\u001b[0;34m\u001b[0m\u001b[0;34m\u001b[0m\u001b[0m\n\u001b[0;32m---> 19\u001b[0;31m     \u001b[0m_assert_image_tensor\u001b[0m\u001b[0;34m(\u001b[0m\u001b[0mimg\u001b[0m\u001b[0;34m)\u001b[0m\u001b[0;34m\u001b[0m\u001b[0;34m\u001b[0m\u001b[0m\n\u001b[0m\u001b[1;32m     20\u001b[0m     \u001b[0mchannels\u001b[0m \u001b[0;34m=\u001b[0m \u001b[0;36m1\u001b[0m \u001b[0;32mif\u001b[0m \u001b[0mimg\u001b[0m\u001b[0;34m.\u001b[0m\u001b[0mndim\u001b[0m \u001b[0;34m==\u001b[0m \u001b[0;36m2\u001b[0m \u001b[0;32melse\u001b[0m \u001b[0mimg\u001b[0m\u001b[0;34m.\u001b[0m\u001b[0mshape\u001b[0m\u001b[0;34m[\u001b[0m\u001b[0;34m-\u001b[0m\u001b[0;36m3\u001b[0m\u001b[0;34m]\u001b[0m\u001b[0;34m\u001b[0m\u001b[0;34m\u001b[0m\u001b[0m\n\u001b[1;32m     21\u001b[0m     \u001b[0mheight\u001b[0m\u001b[0;34m,\u001b[0m \u001b[0mwidth\u001b[0m \u001b[0;34m=\u001b[0m \u001b[0mimg\u001b[0m\u001b[0;34m.\u001b[0m\u001b[0mshape\u001b[0m\u001b[0;34m[\u001b[0m\u001b[0;34m-\u001b[0m\u001b[0;36m2\u001b[0m\u001b[0;34m:\u001b[0m\u001b[0;34m]\u001b[0m\u001b[0;34m\u001b[0m\u001b[0;34m\u001b[0m\u001b[0m\n",
      "\u001b[0;32m~/.conda/envs/default/lib/python3.9/site-packages/torchvision/transforms/_functional_tensor.py\u001b[0m in \u001b[0;36m_assert_image_tensor\u001b[0;34m(img)\u001b[0m\n\u001b[1;32m     13\u001b[0m \u001b[0;32mdef\u001b[0m \u001b[0m_assert_image_tensor\u001b[0m\u001b[0;34m(\u001b[0m\u001b[0mimg\u001b[0m\u001b[0;34m:\u001b[0m \u001b[0mTensor\u001b[0m\u001b[0;34m)\u001b[0m \u001b[0;34m->\u001b[0m \u001b[0;32mNone\u001b[0m\u001b[0;34m:\u001b[0m\u001b[0;34m\u001b[0m\u001b[0;34m\u001b[0m\u001b[0m\n\u001b[1;32m     14\u001b[0m     \u001b[0;32mif\u001b[0m \u001b[0;32mnot\u001b[0m \u001b[0m_is_tensor_a_torch_image\u001b[0m\u001b[0;34m(\u001b[0m\u001b[0mimg\u001b[0m\u001b[0;34m)\u001b[0m\u001b[0;34m:\u001b[0m\u001b[0;34m\u001b[0m\u001b[0;34m\u001b[0m\u001b[0m\n\u001b[0;32m---> 15\u001b[0;31m         \u001b[0;32mraise\u001b[0m \u001b[0mTypeError\u001b[0m\u001b[0;34m(\u001b[0m\u001b[0;34m\"Tensor is not a torch image.\"\u001b[0m\u001b[0;34m)\u001b[0m\u001b[0;34m\u001b[0m\u001b[0;34m\u001b[0m\u001b[0m\n\u001b[0m\u001b[1;32m     16\u001b[0m \u001b[0;34m\u001b[0m\u001b[0m\n\u001b[1;32m     17\u001b[0m \u001b[0;34m\u001b[0m\u001b[0m\n",
      "\u001b[0;31mTypeError\u001b[0m: Tensor is not a torch image."
     ]
    }
   ],
   "source": [
    "import matplotlib.pyplot as plt\n",
    "\n",
    "def display_img(img,label):\n",
    "    print(f\"Label : {dataset.classes[label]}\")\n",
    "    plt.imshow(img.permute(1,2,0))\n",
    "\n",
    "#display the first image in the dataset\n",
    "display_img(*dataset_glcm[100])"
   ]
  },
  {
   "cell_type": "code",
   "execution_count": 19,
   "id": "6295abda-a365-421d-a2c0-3cba6ff5d4ff",
   "metadata": {
    "tags": []
   },
   "outputs": [
    {
     "name": "stdout",
     "output_type": "stream",
     "text": [
      "Label: 0\n"
     ]
    },
    {
     "data": {
      "image/png": "[encoded data removed]",
      "text/plain": [
       "<Figure size 640x480 with 1 Axes>"
      ]
     },
     "metadata": {},
     "output_type": "display_data"
    }
   ],
   "source": [
    "import os\n",
    "import numpy as np\n",
    "import torch\n",
    "from PIL import Image\n",
    "from torch.utils.data import Dataset, DataLoader\n",
    "import torchvision.datasets as datasets\n",
    "import torchvision.transforms as transforms\n",
    "from skimage.feature import greycomatrix, greycoprops\n",
    "\n",
    "# Define the image transformations\n",
    "transform = transforms.Compose([\n",
    "    transforms.Resize((150, 150)),\n",
    "    transforms.ToTensor(),\n",
    "    transforms.Normalize(mean=[0.5], std=[0.5])\n",
    "])\n",
    "\n",
    "# Define a custom dataset class\n",
    "class TensorImageDataset(Dataset):\n",
    "    def __init__(self, tensorized_images, labels, transform=None):\n",
    "        self.images = tensorized_images\n",
    "        self.labels = labels\n",
    "        self.transform = transform\n",
    "    \n",
    "    def __len__(self):\n",
    "        return len(self.images)\n",
    "    \n",
    "    def __getitem__(self, index):\n",
    "        image = Image.fromarray(np.uint8(self.images[index] * 255))\n",
    "        label = self.labels[index]\n",
    "        \n",
    "        if self.transform:\n",
    "            image = self.transform(image)\n",
    "        \n",
    "        return image, label\n",
    "\n",
    "# Load the dataset\n",
    "dataset_glcm = TensorImageDataset(tensorized_images, labels, transform=transform)\n",
    "\n",
    "# Create a data loader for the dataset\n",
    "data_loader_glcm = DataLoader(dataset_glcm, batch_size=32, shuffle=True)\n",
    "\n",
    "# Test displaying the image\n",
    "import matplotlib.pyplot as plt\n",
    "\n",
    "def display_img(img, label):\n",
    "    print(f\"Label: {label}\")\n",
    "    plt.imshow(img.permute(1, 2, 0))\n",
    "\n",
    "\n",
    "# Display the first image in the dataset\n",
    "display_img(*dataset_glcm[902])\n"
   ]
  },
  {
   "cell_type": "code",
   "execution_count": 64,
   "id": "519c7570-96e1-4bb7-89d3-60f7cba9766d",
   "metadata": {
    "tags": []
   },
   "outputs": [
    {
     "data": {
      "text/plain": [
       "torchvision.datasets.folder.ImageFolder"
      ]
     },
     "execution_count": 64,
     "metadata": {},
     "output_type": "execute_result"
    }
   ],
   "source": [
    "type(dataset)"
   ]
  },
  {
   "cell_type": "code",
   "execution_count": 86,
   "id": "5ccc6674-a5b7-4015-b04b-7375313f8449",
   "metadata": {
    "tags": []
   },
   "outputs": [],
   "source": []
  },
  {
   "cell_type": "code",
   "execution_count": 87,
   "id": "4c3cc560-e5d8-48d8-9f94-7edd584c2bb0",
   "metadata": {
    "tags": []
   },
   "outputs": [],
   "source": []
  },
  {
   "cell_type": "code",
   "execution_count": 62,
   "id": "2429c4f0-d675-4126-89b5-ed1480cf6382",
   "metadata": {
    "tags": []
   },
   "outputs": [
    {
     "data": {
      "text/plain": [
       "(tensor([[[0.2392, 0.2353, 0.2314,  ..., 0.0784, 0.0745, 0.0745],\n",
       "          [0.2745, 0.2745, 0.2706,  ..., 0.0745, 0.0706, 0.0706],\n",
       "          [0.3490, 0.3020, 0.3098,  ..., 0.0706, 0.0706, 0.0667],\n",
       "          ...,\n",
       "          [0.6235, 0.6314, 0.6353,  ..., 0.3765, 0.2941, 0.2549],\n",
       "          [0.6275, 0.6314, 0.6392,  ..., 0.3529, 0.2902, 0.2549],\n",
       "          [0.6275, 0.6353, 0.6471,  ..., 0.3294, 0.2824, 0.2510]],\n",
       " \n",
       "         [[0.2392, 0.2353, 0.2314,  ..., 0.0784, 0.0745, 0.0745],\n",
       "          [0.2745, 0.2745, 0.2706,  ..., 0.0745, 0.0706, 0.0706],\n",
       "          [0.3490, 0.3020, 0.3098,  ..., 0.0706, 0.0706, 0.0667],\n",
       "          ...,\n",
       "          [0.6235, 0.6314, 0.6353,  ..., 0.3765, 0.2941, 0.2549],\n",
       "          [0.6275, 0.6314, 0.6392,  ..., 0.3529, 0.2902, 0.2549],\n",
       "          [0.6275, 0.6353, 0.6471,  ..., 0.3294, 0.2824, 0.2510]],\n",
       " \n",
       "         [[0.2392, 0.2353, 0.2314,  ..., 0.0784, 0.0745, 0.0745],\n",
       "          [0.2745, 0.2745, 0.2706,  ..., 0.0745, 0.0706, 0.0706],\n",
       "          [0.3490, 0.3020, 0.3098,  ..., 0.0706, 0.0706, 0.0667],\n",
       "          ...,\n",
       "          [0.6235, 0.6314, 0.6353,  ..., 0.3765, 0.2941, 0.2549],\n",
       "          [0.6275, 0.6314, 0.6392,  ..., 0.3529, 0.2902, 0.2549],\n",
       "          [0.6275, 0.6353, 0.6471,  ..., 0.3294, 0.2824, 0.2510]]]),\n",
       " 1)"
      ]
     },
     "execution_count": 62,
     "metadata": {},
     "output_type": "execute_result"
    }
   ],
   "source": [
    "dataset[1400]"
   ]
  },
  {
   "cell_type": "code",
   "execution_count": 112,
   "id": "29f6bece-d0fe-4ad0-9a5b-3a42392036f2",
   "metadata": {
    "tags": []
   },
   "outputs": [
    {
     "name": "stdout",
     "output_type": "stream",
     "text": [
      "Length of Train Data : 1903\n",
      "Length of Validation Data : 0\n"
     ]
    }
   ],
   "source": [
    "from torch.utils.data.dataloader import DataLoader\n",
    "from torch.utils.data import random_split\n",
    "\n",
    "batch_size = 32\n",
    "val_size = 0\n",
    "train_size = len(dataset) - val_size \n",
    "\n",
    "train_data,val_data = random_split(dataset,[train_size,val_size])\n",
    "print(f\"Length of Train Data : {len(train_data)}\")\n",
    "print(f\"Length of Validation Data : {len(val_data)}\")\n",
    "\n",
    "#output\n",
    "#Length of Train Data : 12034\n",
    "#Length of Validation Data : 2000\n",
    "\n",
    "#load the train and validation into batches.\n",
    "train_dl = DataLoader(dataset, batch_size, shuffle = True, num_workers = 4, pin_memory = True)\n",
    "val_dl = DataLoader(dataset_test, 624, num_workers = 4, pin_memory = True)\n"
   ]
  },
  {
   "cell_type": "code",
   "execution_count": 27,
   "id": "f358fe89-8bd8-4fa5-8bb8-76b8580ad1dd",
   "metadata": {
    "tags": []
   },
   "outputs": [],
   "source": [
    "from torch.utils.data.dataloader import DataLoader\n",
    "from torch.utils.data import random_split\n",
    "val_size = 400\n",
    "train_size = len(dataset_glcm) - val_size \n",
    "\n",
    "train_data,val_data = random_split(dataset_glcm,[train_size,val_size])"
   ]
  },
  {
   "cell_type": "code",
   "execution_count": 30,
   "id": "147fe778-60a6-4b75-93a0-061909b8c29e",
   "metadata": {
    "tags": []
   },
   "outputs": [
    {
     "data": {
      "text/plain": [
       "509"
      ]
     },
     "execution_count": 30,
     "metadata": {},
     "output_type": "execute_result"
    }
   ],
   "source": [
    "len(train_data)"
   ]
  },
  {
   "cell_type": "code",
   "execution_count": null,
   "id": "00d39480-3bdd-4a7e-a7a5-58a0adfeed3f",
   "metadata": {
    "tags": []
   },
   "outputs": [],
   "source": [
    "for images, labels in val_dl:\n",
    "    print(images.shape, labels)"
   ]
  },
  {
   "cell_type": "code",
   "execution_count": 101,
   "id": "6728078d-e2b1-47d2-9b86-aa58cbf5d26f",
   "metadata": {
    "tags": []
   },
   "outputs": [
    {
     "data": {
      "text/plain": [
       "350"
      ]
     },
     "execution_count": 101,
     "metadata": {},
     "output_type": "execute_result"
    }
   ],
   "source": [
    "len(val_data)"
   ]
  },
  {
   "cell_type": "code",
   "execution_count": 20,
   "id": "803c95ee-3899-4c57-8a89-8d52b84ee29e",
   "metadata": {
    "tags": []
   },
   "outputs": [
    {
     "name": "stderr",
     "output_type": "stream",
     "text": [
      "Clipping input data to the valid range for imshow with RGB data ([0..1] for floats or [0..255] for integers).\n"
     ]
    },
    {
     "data": {
      "image/png": "[encoded data removed]",
      "text/plain": [
       "<Figure size 1600x1200 with 1 Axes>"
      ]
     },
     "metadata": {},
     "output_type": "display_data"
    }
   ],
   "source": [
    "from torchvision.utils import make_grid\n",
    "import matplotlib.pyplot as plt\n",
    "\n",
    "def show_batch(dl):\n",
    "    \"\"\"Plot images grid of single batch\"\"\"\n",
    "    for images, labels in dl:\n",
    "        fig,ax = plt.subplots(figsize = (16,12))\n",
    "        ax.set_xticks([])\n",
    "        ax.set_yticks([])\n",
    "        ax.imshow(make_grid(images,nrow=16).permute(1,2,0))\n",
    "        break\n",
    "        \n",
    "show_batch(data_loader_glcm)"
   ]
  },
  {
   "cell_type": "code",
   "execution_count": 21,
   "id": "8622d79f-1049-4c6e-91f2-a77c243ccbd3",
   "metadata": {
    "tags": []
   },
   "outputs": [],
   "source": [
    "import torch.nn as nn\n",
    "import torch.nn.functional as F\n",
    "from sklearn.metrics import recall_score\n",
    "\n",
    "class ImageClassificationBase(nn.Module):\n",
    "    \n",
    "    def training_step(self, batch):\n",
    "        images, labels = batch \n",
    "        out = self(images)                  # Generate predictions\n",
    "        loss = F.cross_entropy(out, labels) # Calculate loss\n",
    "        return loss\n",
    "\n",
    "\n",
    "    def validation_step(self, batch):\n",
    "        images, labels = batch \n",
    "        out = self(images)                    # Generate predictions\n",
    "        loss = F.cross_entropy(out, labels)   # Calculate loss\n",
    "        acc = accuracy(out, labels)           # Calculate accuracy\n",
    "        preds = torch.argmax(out, dim=1)      # Get predicted labels\n",
    "        recall = recall_score(labels.cpu(), preds.cpu(), average='macro')  # Calculate recall\n",
    "        #print(\"Recall:\",recall)\n",
    "        return {'val_loss': loss.detach(), 'val_acc': acc,'val_recall':recall}\n",
    "       \n",
    "        \n",
    "    def validation_epoch_end(self, outputs):\n",
    "        batch_losses = [x['val_loss'] for x in outputs]\n",
    "        epoch_loss = torch.stack(batch_losses).mean()   # Combine losses\n",
    "        batch_accs = [x['val_acc'] for x in outputs]\n",
    "        epoch_acc = torch.stack(batch_accs).mean()      # Combine accuracies\n",
    "        batch_recalls = [x['val_recall'] for x in outputs]\n",
    "        epoch_recalls = torch.stack(batch_losses).mean()   # Combine Recalls\n",
    "        return {'val_loss': epoch_loss.item(), 'val_acc': epoch_acc.item(),'val_recall':epoch_recalls.item()}\n",
    "\n",
    "\n",
    "\n",
    "    def epoch_end(self, epoch, result):\n",
    "        print(\"Epoch [{}], train_loss: {:.4f}, val_loss: {:.4f}, val_acc: {:.4f},val_recall: {:.4f}\".format(\n",
    "            epoch, result['train_loss'], result['val_loss'], result['val_acc'],result['val_recall']))\n",
    "        \n",
    "        "
   ]
  },
  {
   "cell_type": "code",
   "execution_count": 22,
   "id": "57e60460-0e25-4d13-9278-71d58924838a",
   "metadata": {
    "tags": []
   },
   "outputs": [],
   "source": [
    "class NaturalSceneClassification(ImageClassificationBase):\n",
    "    def __init__(self):\n",
    "        super().__init__()\n",
    "        self.network = nn.Sequential(\n",
    "            \n",
    "            nn.Conv2d(3, 32, kernel_size = 3, padding = 1),\n",
    "            nn.ReLU(),\n",
    "            nn.Conv2d(32,64, kernel_size = 3, stride = 1, padding = 1),\n",
    "            nn.ReLU(),\n",
    "            nn.MaxPool2d(2,2),\n",
    "        \n",
    "            nn.Conv2d(64, 128, kernel_size = 3, stride = 1, padding = 1),\n",
    "            nn.ReLU(),\n",
    "            nn.Conv2d(128 ,128, kernel_size = 3, stride = 1, padding = 1),\n",
    "            nn.ReLU(),\n",
    "            nn.MaxPool2d(2,2),\n",
    "            \n",
    "            nn.Conv2d(128, 256, kernel_size = 3, stride = 1, padding = 1),\n",
    "            nn.ReLU(),\n",
    "            nn.Conv2d(256,256, kernel_size = 3, stride = 1, padding = 1),\n",
    "            nn.ReLU(),\n",
    "            nn.MaxPool2d(2,2),\n",
    "            \n",
    "            nn.Flatten(),\n",
    "            nn.Linear(82944,1024),\n",
    "            nn.ReLU(),\n",
    "            nn.Linear(1024, 512),\n",
    "            nn.ReLU(),\n",
    "            nn.Linear(512,2)\n",
    "        )\n",
    "    \n",
    "    def forward(self, xb):\n",
    "        return self.network(xb)"
   ]
  },
  {
   "cell_type": "code",
   "execution_count": 23,
   "id": "5a235675-44a5-4837-9d83-4e4b600908ab",
   "metadata": {
    "tags": []
   },
   "outputs": [],
   "source": [
    "import torch\n",
    "def accuracy(outputs, labels):\n",
    "    _, preds = torch.max(outputs, dim=1)\n",
    "    return torch.tensor(torch.sum(preds == labels).item() / len(preds))\n",
    "\n",
    "  \n",
    "@torch.no_grad()\n",
    "def evaluate(model, val_loader):\n",
    "    model.eval()\n",
    "    outputs = [model.validation_step(batch) for batch in val_loader]\n",
    "    #print(outputs)\n",
    "    return model.validation_epoch_end(outputs)\n",
    "\n",
    "  \n",
    "def fit(epochs, lr, model, train_loader, val_loader, opt_func = torch.optim.SGD):\n",
    "    \n",
    "    history = []\n",
    "    optimizer = opt_func(model.parameters(),lr)\n",
    "    for epoch in range(epochs):\n",
    "        \n",
    "        model.train()\n",
    "        train_losses = []\n",
    "        for batch in train_loader:\n",
    "            loss = model.training_step(batch)\n",
    "            train_losses.append(loss)\n",
    "            loss.backward()\n",
    "            optimizer.step()\n",
    "            optimizer.zero_grad()\n",
    "            \n",
    "        result = evaluate(model, val_loader)\n",
    "        result['train_loss'] = torch.stack(train_losses).mean().item()\n",
    "        model.epoch_end(epoch, result)\n",
    "        history.append(result)\n",
    "    \n",
    "    return history"
   ]
  },
  {
   "cell_type": "code",
   "execution_count": 24,
   "id": "0a706391-3f4f-401f-a899-0dbc9354aa59",
   "metadata": {
    "tags": []
   },
   "outputs": [],
   "source": [
    "device = torch.device(\"cuda\" if torch.cuda.is_available() else \"cpu\")\n",
    "model = NaturalSceneClassification().to(device)"
   ]
  },
  {
   "cell_type": "code",
   "execution_count": null,
   "id": "9047092f-57a2-45d7-baa8-624914568faa",
   "metadata": {
    "tags": []
   },
   "outputs": [
    {
     "name": "stdout",
     "output_type": "stream",
     "text": [
      "Epoch [0], train_loss: 0.6984, val_loss: 0.6925, val_acc: 0.6250,val_recall: 0.6925\n",
      "Epoch [1], train_loss: 0.6904, val_loss: 0.6972, val_acc: 0.3750,val_recall: 0.6972\n",
      "Epoch [2], train_loss: 0.6834, val_loss: 0.7020, val_acc: 0.3750,val_recall: 0.7020\n",
      "Epoch [3], train_loss: 0.6771, val_loss: 0.7067, val_acc: 0.3750,val_recall: 0.7067\n",
      "Epoch [4], train_loss: 0.6713, val_loss: 0.7115, val_acc: 0.3750,val_recall: 0.7115\n"
     ]
    }
   ],
   "source": [
    "historico2 = fit(5, 0.001, model, train_dl, val_dl, opt_func = torch.optim.SGD)"
   ]
  },
  {
   "cell_type": "code",
   "execution_count": 107,
   "id": "21a57401-d3e7-4c22-8e3f-91ddc26247fe",
   "metadata": {
    "tags": []
   },
   "outputs": [
    {
     "data": {
      "text/plain": [
       "[{'val_loss': 0.6857568621635437,\n",
       "  'val_acc': 0.808571457862854,\n",
       "  'val_recall': 0.6857568621635437,\n",
       "  'train_loss': 0.692064642906189},\n",
       " {'val_loss': 0.674298107624054,\n",
       "  'val_acc': 0.808571457862854,\n",
       "  'val_recall': 0.674298107624054,\n",
       "  'train_loss': 0.6791235208511353},\n",
       " {'val_loss': 0.6636916399002075,\n",
       "  'val_acc': 0.808571457862854,\n",
       "  'val_recall': 0.6636916399002075,\n",
       "  'train_loss': 0.6672363877296448},\n",
       " {'val_loss': 0.6538041234016418,\n",
       "  'val_acc': 0.808571457862854,\n",
       "  'val_recall': 0.6538041234016418,\n",
       "  'train_loss': 0.6560449600219727},\n",
       " {'val_loss': 0.6445767283439636,\n",
       "  'val_acc': 0.808571457862854,\n",
       "  'val_recall': 0.6445767283439636,\n",
       "  'train_loss': 0.6457051038742065},\n",
       " {'val_loss': 0.6358767747879028,\n",
       "  'val_acc': 0.808571457862854,\n",
       "  'val_recall': 0.6358767747879028,\n",
       "  'train_loss': 0.6360012292861938},\n",
       " {'val_loss': 0.6277244091033936,\n",
       "  'val_acc': 0.808571457862854,\n",
       "  'val_recall': 0.6277244091033936,\n",
       "  'train_loss': 0.6268671751022339},\n",
       " {'val_loss': 0.6199440360069275,\n",
       "  'val_acc': 0.808571457862854,\n",
       "  'val_recall': 0.6199440360069275,\n",
       "  'train_loss': 0.6179910898208618},\n",
       " {'val_loss': 0.6125180721282959,\n",
       "  'val_acc': 0.808571457862854,\n",
       "  'val_recall': 0.6125180721282959,\n",
       "  'train_loss': 0.6099317669868469},\n",
       " {'val_loss': 0.6053647994995117,\n",
       "  'val_acc': 0.808571457862854,\n",
       "  'val_recall': 0.6053647994995117,\n",
       "  'train_loss': 0.6016106605529785},\n",
       " {'val_loss': 0.5984938740730286,\n",
       "  'val_acc': 0.808571457862854,\n",
       "  'val_recall': 0.5984938740730286,\n",
       "  'train_loss': 0.5940409302711487},\n",
       " {'val_loss': 0.5919923782348633,\n",
       "  'val_acc': 0.808571457862854,\n",
       "  'val_recall': 0.5919923782348633,\n",
       "  'train_loss': 0.5869289636611938},\n",
       " {'val_loss': 0.5857338905334473,\n",
       "  'val_acc': 0.808571457862854,\n",
       "  'val_recall': 0.5857338905334473,\n",
       "  'train_loss': 0.5794692039489746},\n",
       " {'val_loss': 0.5796304941177368,\n",
       "  'val_acc': 0.808571457862854,\n",
       "  'val_recall': 0.5796304941177368,\n",
       "  'train_loss': 0.5722479820251465},\n",
       " {'val_loss': 0.5737230181694031,\n",
       "  'val_acc': 0.808571457862854,\n",
       "  'val_recall': 0.5737230181694031,\n",
       "  'train_loss': 0.5657392740249634},\n",
       " {'val_loss': 0.5680873990058899,\n",
       "  'val_acc': 0.808571457862854,\n",
       "  'val_recall': 0.5680873990058899,\n",
       "  'train_loss': 0.5596405267715454},\n",
       " {'val_loss': 0.5626307725906372,\n",
       "  'val_acc': 0.808571457862854,\n",
       "  'val_recall': 0.5626307725906372,\n",
       "  'train_loss': 0.5531260371208191},\n",
       " {'val_loss': 0.5573604702949524,\n",
       "  'val_acc': 0.808571457862854,\n",
       "  'val_recall': 0.5573604702949524,\n",
       "  'train_loss': 0.5474754571914673},\n",
       " {'val_loss': 0.5522230863571167,\n",
       "  'val_acc': 0.808571457862854,\n",
       "  'val_recall': 0.5522230863571167,\n",
       "  'train_loss': 0.5411175489425659},\n",
       " {'val_loss': 0.5472350716590881,\n",
       "  'val_acc': 0.808571457862854,\n",
       "  'val_recall': 0.5472350716590881,\n",
       "  'train_loss': 0.5354883074760437},\n",
       " {'val_loss': 0.5423038601875305,\n",
       "  'val_acc': 0.808571457862854,\n",
       "  'val_recall': 0.5423038601875305,\n",
       "  'train_loss': 0.5297861099243164},\n",
       " {'val_loss': 0.5374261736869812,\n",
       "  'val_acc': 0.808571457862854,\n",
       "  'val_recall': 0.5374261736869812,\n",
       "  'train_loss': 0.523581862449646},\n",
       " {'val_loss': 0.5326360464096069,\n",
       "  'val_acc': 0.808571457862854,\n",
       "  'val_recall': 0.5326360464096069,\n",
       "  'train_loss': 0.518103301525116},\n",
       " {'val_loss': 0.5279541611671448,\n",
       "  'val_acc': 0.808571457862854,\n",
       "  'val_recall': 0.5279541611671448,\n",
       "  'train_loss': 0.512912929058075},\n",
       " {'val_loss': 0.5233368277549744,\n",
       "  'val_acc': 0.808571457862854,\n",
       "  'val_recall': 0.5233368277549744,\n",
       "  'train_loss': 0.507807731628418},\n",
       " {'val_loss': 0.5187875032424927,\n",
       "  'val_acc': 0.808571457862854,\n",
       "  'val_recall': 0.5187875032424927,\n",
       "  'train_loss': 0.5016649961471558},\n",
       " {'val_loss': 0.5144373178482056,\n",
       "  'val_acc': 0.808571457862854,\n",
       "  'val_recall': 0.5144373178482056,\n",
       "  'train_loss': 0.4969192445278168},\n",
       " {'val_loss': 0.5102651715278625,\n",
       "  'val_acc': 0.808571457862854,\n",
       "  'val_recall': 0.5102651715278625,\n",
       "  'train_loss': 0.4914303719997406},\n",
       " {'val_loss': 0.5062789916992188,\n",
       "  'val_acc': 0.808571457862854,\n",
       "  'val_recall': 0.5062789916992188,\n",
       "  'train_loss': 0.485541969537735},\n",
       " {'val_loss': 0.5026424527168274,\n",
       "  'val_acc': 0.808571457862854,\n",
       "  'val_recall': 0.5026424527168274,\n",
       "  'train_loss': 0.48135942220687866}]"
      ]
     },
     "execution_count": 107,
     "metadata": {},
     "output_type": "execute_result"
    }
   ],
   "source": [
    "historico2"
   ]
  },
  {
   "cell_type": "code",
   "execution_count": null,
   "id": "bbf5d1eb-624e-43c3-b7a7-5f17abe11e91",
   "metadata": {},
   "outputs": [],
   "source": []
  }
 ],
 "metadata": {
  "kernelspec": {
   "display_name": "default:Python",
   "language": "python",
   "name": "conda-env-default-py"
  },
  "language_info": {
   "codemirror_mode": {
    "name": "ipython",
    "version": 3
   },
   "file_extension": ".py",
   "mimetype": "text/x-python",
   "name": "python",
   "nbconvert_exporter": "python",
   "pygments_lexer": "ipython3",
   "version": "3.9.16"
  }
 },
 "nbformat": 4,
 "nbformat_minor": 5
}
